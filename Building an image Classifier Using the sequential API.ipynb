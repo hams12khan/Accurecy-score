{
 "cells": [
  {
   "cell_type": "code",
   "execution_count": 68,
   "id": "0eb3f614",
   "metadata": {},
   "outputs": [],
   "source": [
    "import pandas as pd \n",
    "import numpy as np\n",
    "import matplotlib.pyplot as plt"
   ]
  },
  {
   "cell_type": "code",
   "execution_count": 50,
   "id": "6294317c",
   "metadata": {},
   "outputs": [],
   "source": [
    "import tensorflow as tf\n",
    "from tensorflow.keras.datasets import fashion_mnist"
   ]
  },
  {
   "cell_type": "code",
   "execution_count": 51,
   "id": "c8fbdc26",
   "metadata": {},
   "outputs": [
    {
     "data": {
      "text/plain": [
       "(60000, 28, 28)"
      ]
     },
     "execution_count": 51,
     "metadata": {},
     "output_type": "execute_result"
    }
   ],
   "source": [
    "(X_train_full,y_train_full),(X_test,y_test)=fashion_mnist.load_data()\n",
    "X_train_full.shape"
   ]
  },
  {
   "cell_type": "code",
   "execution_count": 52,
   "id": "0a9590bb",
   "metadata": {},
   "outputs": [
    {
     "data": {
      "text/plain": [
       "dtype('uint8')"
      ]
     },
     "execution_count": 52,
     "metadata": {},
     "output_type": "execute_result"
    }
   ],
   "source": [
    "X_train_full.dtype"
   ]
  },
  {
   "cell_type": "code",
   "execution_count": 53,
   "id": "33424e5e",
   "metadata": {},
   "outputs": [],
   "source": [
    "X_valid,X_train=X_train_full[:5000]/255.0,X_train_full[5000:]/255.0\n",
    "y_valid,y_train=y_train_full[:5000],y_train_full[5000:]"
   ]
  },
  {
   "cell_type": "code",
   "execution_count": 54,
   "id": "74eb6668",
   "metadata": {},
   "outputs": [],
   "source": [
    "class_name=[\"T-shirt/Top\",\"Trouser\",\"Pullover\",\"Dress\",\"Coat\",\"snadal\",\"Shirt\",\"Sneaker\",\"Bag\",\"ANkle boot\"]"
   ]
  },
  {
   "cell_type": "code",
   "execution_count": 55,
   "id": "277cc139",
   "metadata": {},
   "outputs": [
    {
     "data": {
      "text/plain": [
       "'T-shirt/Top'"
      ]
     },
     "execution_count": 55,
     "metadata": {},
     "output_type": "execute_result"
    }
   ],
   "source": [
    "class_name[y_train[1]]"
   ]
  },
  {
   "cell_type": "code",
   "execution_count": 56,
   "id": "e093cb5b",
   "metadata": {},
   "outputs": [],
   "source": [
    "#Creating the Neural Network"
   ]
  },
  {
   "cell_type": "code",
   "execution_count": 57,
   "id": "c4b8ce29",
   "metadata": {},
   "outputs": [],
   "source": [
    "from tensorflow.keras.models import Sequential\n",
    "from tensorflow.keras.layers import Dense\n",
    "from tensorflow.keras.layers import Flatten"
   ]
  },
  {
   "cell_type": "code",
   "execution_count": 58,
   "id": "dcd492f4",
   "metadata": {},
   "outputs": [],
   "source": [
    "classifier=Sequential()"
   ]
  },
  {
   "cell_type": "code",
   "execution_count": 59,
   "id": "43441f39",
   "metadata": {},
   "outputs": [],
   "source": [
    "#flatten Layer\n",
    "classifier.add(Flatten(input_shape=[28,28]))"
   ]
  },
  {
   "cell_type": "code",
   "execution_count": 60,
   "id": "087853e7",
   "metadata": {},
   "outputs": [],
   "source": [
    "#input layer\n",
    "classifier.add(Dense(3000,activation=\"relu\"))"
   ]
  },
  {
   "cell_type": "code",
   "execution_count": 61,
   "id": "b5b7f024",
   "metadata": {},
   "outputs": [],
   "source": [
    "#hidden layer 1\n",
    "classifier.add(Dense(100,activation=\"relu\"))"
   ]
  },
  {
   "cell_type": "code",
   "execution_count": 62,
   "id": "8e73d74b",
   "metadata": {},
   "outputs": [],
   "source": [
    "#ouput layer\n",
    "classifier.add(Dense(10,activation=\"softmax\"))"
   ]
  },
  {
   "cell_type": "code",
   "execution_count": 63,
   "id": "a15ef86d",
   "metadata": {},
   "outputs": [
    {
     "name": "stdout",
     "output_type": "stream",
     "text": [
      "Model: \"sequential_1\"\n",
      "_________________________________________________________________\n",
      " Layer (type)                Output Shape              Param #   \n",
      "=================================================================\n",
      " flatten_3 (Flatten)         (None, 784)               0         \n",
      "                                                                 \n",
      " dense_6 (Dense)             (None, 3000)              2355000   \n",
      "                                                                 \n",
      " dense_7 (Dense)             (None, 100)               300100    \n",
      "                                                                 \n",
      " dense_8 (Dense)             (None, 10)                1010      \n",
      "                                                                 \n",
      "=================================================================\n",
      "Total params: 2,656,110\n",
      "Trainable params: 2,656,110\n",
      "Non-trainable params: 0\n",
      "_________________________________________________________________\n"
     ]
    }
   ],
   "source": [
    "#Here we are finding the model summery\n",
    "classifier.summary()"
   ]
  },
  {
   "cell_type": "code",
   "execution_count": 64,
   "id": "2ae3c76b",
   "metadata": {},
   "outputs": [
    {
     "data": {
      "text/plain": [
       "[<keras.layers.reshaping.flatten.Flatten at 0x1e29ffe7430>,\n",
       " <keras.layers.core.dense.Dense at 0x1e29feaa310>,\n",
       " <keras.layers.core.dense.Dense at 0x1e2a0023700>,\n",
       " <keras.layers.core.dense.Dense at 0x1e29fff8820>]"
      ]
     },
     "execution_count": 64,
     "metadata": {},
     "output_type": "execute_result"
    }
   ],
   "source": [
    "# we can also find  layer what we used\n",
    "classifier.layers"
   ]
  },
  {
   "cell_type": "code",
   "execution_count": 65,
   "id": "2baacbe3",
   "metadata": {},
   "outputs": [],
   "source": [
    "classifier.compile(loss=\"sparse_categorical_crossentropy\",optimizer=\"sgd\",metrics=[\"accuracy\"])"
   ]
  },
  {
   "cell_type": "code",
   "execution_count": null,
   "id": "c7135f38",
   "metadata": {},
   "outputs": [],
   "source": [
    "early_stop=tf.keras.callbacks.EarlyStopping(\n",
    "    monitor=\"val_loss\",\n",
    "    min_delta=0.001,\n",
    "    patience=0,\n",
    "    verbose=1,\n",
    "    mode=\"auto\",\n",
    "    baseline=None,\n",
    "    restore_best_weights=False\n",
    ")"
   ]
  },
  {
   "cell_type": "code",
   "execution_count": 66,
   "id": "226dcc00",
   "metadata": {},
   "outputs": [
    {
     "name": "stdout",
     "output_type": "stream",
     "text": [
      "Epoch 1/30\n",
      "1719/1719 [==============================] - 27s 15ms/step - loss: 0.6578 - accuracy: 0.7867 - val_loss: 0.4982 - val_accuracy: 0.8224\n",
      "Epoch 2/30\n",
      "1719/1719 [==============================] - 26s 15ms/step - loss: 0.4615 - accuracy: 0.8387 - val_loss: 0.4345 - val_accuracy: 0.8550\n",
      "Epoch 3/30\n",
      "1719/1719 [==============================] - 26s 15ms/step - loss: 0.4197 - accuracy: 0.8533 - val_loss: 0.3943 - val_accuracy: 0.8690\n",
      "Epoch 4/30\n",
      "1719/1719 [==============================] - 26s 15ms/step - loss: 0.3951 - accuracy: 0.8625 - val_loss: 0.3794 - val_accuracy: 0.8722\n",
      "Epoch 5/30\n",
      "1719/1719 [==============================] - 26s 15ms/step - loss: 0.3741 - accuracy: 0.8675 - val_loss: 0.3853 - val_accuracy: 0.8674\n",
      "Epoch 6/30\n",
      "1719/1719 [==============================] - 26s 15ms/step - loss: 0.3590 - accuracy: 0.8734 - val_loss: 0.3623 - val_accuracy: 0.8736\n",
      "Epoch 7/30\n",
      "1719/1719 [==============================] - 27s 16ms/step - loss: 0.3443 - accuracy: 0.8779 - val_loss: 0.3559 - val_accuracy: 0.8740\n",
      "Epoch 8/30\n",
      "1719/1719 [==============================] - 26s 15ms/step - loss: 0.3328 - accuracy: 0.8832 - val_loss: 0.3381 - val_accuracy: 0.8804\n",
      "Epoch 9/30\n",
      "1719/1719 [==============================] - 25s 15ms/step - loss: 0.3203 - accuracy: 0.8858 - val_loss: 0.3420 - val_accuracy: 0.8760\n",
      "Epoch 10/30\n",
      "1719/1719 [==============================] - 25s 15ms/step - loss: 0.3115 - accuracy: 0.8887 - val_loss: 0.3305 - val_accuracy: 0.8836\n",
      "Epoch 11/30\n",
      "1719/1719 [==============================] - 25s 15ms/step - loss: 0.3020 - accuracy: 0.8915 - val_loss: 0.3316 - val_accuracy: 0.8778\n",
      "Epoch 12/30\n",
      "1719/1719 [==============================] - 24s 14ms/step - loss: 0.2933 - accuracy: 0.8945 - val_loss: 0.3203 - val_accuracy: 0.8868\n",
      "Epoch 13/30\n",
      "1719/1719 [==============================] - 27s 16ms/step - loss: 0.2852 - accuracy: 0.8975 - val_loss: 0.3112 - val_accuracy: 0.8906\n",
      "Epoch 14/30\n",
      "1719/1719 [==============================] - 27s 16ms/step - loss: 0.2784 - accuracy: 0.9004 - val_loss: 0.3194 - val_accuracy: 0.8900\n",
      "Epoch 15/30\n",
      "1719/1719 [==============================] - 27s 16ms/step - loss: 0.2708 - accuracy: 0.9032 - val_loss: 0.3055 - val_accuracy: 0.8916\n",
      "Epoch 16/30\n",
      "1719/1719 [==============================] - 28s 16ms/step - loss: 0.2638 - accuracy: 0.9048 - val_loss: 0.3123 - val_accuracy: 0.8876\n",
      "Epoch 17/30\n",
      "1719/1719 [==============================] - 29s 17ms/step - loss: 0.2578 - accuracy: 0.9066 - val_loss: 0.2980 - val_accuracy: 0.8950\n",
      "Epoch 18/30\n",
      "1719/1719 [==============================] - 30s 17ms/step - loss: 0.2520 - accuracy: 0.9102 - val_loss: 0.3054 - val_accuracy: 0.8896\n",
      "Epoch 19/30\n",
      "1719/1719 [==============================] - 28s 16ms/step - loss: 0.2454 - accuracy: 0.9122 - val_loss: 0.3594 - val_accuracy: 0.8634\n",
      "Epoch 20/30\n",
      "1719/1719 [==============================] - 31s 18ms/step - loss: 0.2393 - accuracy: 0.9141 - val_loss: 0.2930 - val_accuracy: 0.8930\n",
      "Epoch 21/30\n",
      "1719/1719 [==============================] - 30s 17ms/step - loss: 0.2340 - accuracy: 0.9163 - val_loss: 0.2990 - val_accuracy: 0.8930\n",
      "Epoch 22/30\n",
      "1719/1719 [==============================] - 27s 16ms/step - loss: 0.2293 - accuracy: 0.9187 - val_loss: 0.2847 - val_accuracy: 0.8960\n",
      "Epoch 23/30\n",
      "1719/1719 [==============================] - 27s 16ms/step - loss: 0.2233 - accuracy: 0.9203 - val_loss: 0.2906 - val_accuracy: 0.8940\n",
      "Epoch 24/30\n",
      "1719/1719 [==============================] - 30s 18ms/step - loss: 0.2177 - accuracy: 0.9231 - val_loss: 0.2805 - val_accuracy: 0.8994\n",
      "Epoch 25/30\n",
      "1719/1719 [==============================] - 24s 14ms/step - loss: 0.2139 - accuracy: 0.9233 - val_loss: 0.2969 - val_accuracy: 0.8930\n",
      "Epoch 26/30\n",
      "1719/1719 [==============================] - 24s 14ms/step - loss: 0.2084 - accuracy: 0.9259 - val_loss: 0.3133 - val_accuracy: 0.8866\n",
      "Epoch 27/30\n",
      "1719/1719 [==============================] - 24s 14ms/step - loss: 0.2032 - accuracy: 0.9279 - val_loss: 0.2786 - val_accuracy: 0.9014\n",
      "Epoch 28/30\n",
      "1719/1719 [==============================] - 25s 15ms/step - loss: 0.1992 - accuracy: 0.9298 - val_loss: 0.2806 - val_accuracy: 0.8990\n",
      "Epoch 29/30\n",
      "1719/1719 [==============================] - 25s 15ms/step - loss: 0.1949 - accuracy: 0.9306 - val_loss: 0.2854 - val_accuracy: 0.8984\n",
      "Epoch 30/30\n",
      "1719/1719 [==============================] - 25s 14ms/step - loss: 0.1900 - accuracy: 0.9331 - val_loss: 0.2785 - val_accuracy: 0.9000\n"
     ]
    }
   ],
   "source": [
    "#now its time to fit the data\n",
    "model_history=classifier.fit(X_train,y_train,epochs=30,validation_data=(X_valid,y_valid))"
   ]
  },
  {
   "cell_type": "code",
   "execution_count": 69,
   "id": "91fbaea3",
   "metadata": {},
   "outputs": [
    {
     "ename": "AttributeError",
     "evalue": "module 'matplotlib.pyplot' has no attribute 'gce'",
     "output_type": "error",
     "traceback": [
      "\u001b[1;31m---------------------------------------------------------------------------\u001b[0m",
      "\u001b[1;31mAttributeError\u001b[0m                            Traceback (most recent call last)",
      "\u001b[1;32m~\\AppData\\Local\\Temp\\ipykernel_2796\\2693582244.py\u001b[0m in \u001b[0;36m<module>\u001b[1;34m\u001b[0m\n\u001b[0;32m      1\u001b[0m \u001b[0mpd\u001b[0m\u001b[1;33m.\u001b[0m\u001b[0mDataFrame\u001b[0m\u001b[1;33m(\u001b[0m\u001b[0mmodel_history\u001b[0m\u001b[1;33m.\u001b[0m\u001b[0mhistory\u001b[0m\u001b[1;33m)\u001b[0m\u001b[1;33m.\u001b[0m\u001b[0mplot\u001b[0m\u001b[1;33m(\u001b[0m\u001b[0mfigsize\u001b[0m\u001b[1;33m=\u001b[0m\u001b[1;33m(\u001b[0m\u001b[1;36m8\u001b[0m\u001b[1;33m,\u001b[0m\u001b[1;36m5\u001b[0m\u001b[1;33m)\u001b[0m\u001b[1;33m)\u001b[0m\u001b[1;33m\u001b[0m\u001b[1;33m\u001b[0m\u001b[0m\n\u001b[0;32m      2\u001b[0m \u001b[0mplt\u001b[0m\u001b[1;33m.\u001b[0m\u001b[0mgrid\u001b[0m\u001b[1;33m(\u001b[0m\u001b[1;32mTrue\u001b[0m\u001b[1;33m)\u001b[0m\u001b[1;33m\u001b[0m\u001b[1;33m\u001b[0m\u001b[0m\n\u001b[1;32m----> 3\u001b[1;33m \u001b[0mplt\u001b[0m\u001b[1;33m.\u001b[0m\u001b[0mgce\u001b[0m\u001b[1;33m(\u001b[0m\u001b[1;33m)\u001b[0m\u001b[1;33m.\u001b[0m\u001b[0mset_ylim\u001b[0m\u001b[1;33m(\u001b[0m\u001b[1;36m0\u001b[0m\u001b[1;33m,\u001b[0m\u001b[1;36m1\u001b[0m\u001b[1;33m)\u001b[0m\u001b[1;33m\u001b[0m\u001b[1;33m\u001b[0m\u001b[0m\n\u001b[0m\u001b[0;32m      4\u001b[0m \u001b[0mplt\u001b[0m\u001b[1;33m.\u001b[0m\u001b[0mshow\u001b[0m\u001b[1;33m(\u001b[0m\u001b[1;33m)\u001b[0m\u001b[1;33m\u001b[0m\u001b[1;33m\u001b[0m\u001b[0m\n",
      "\u001b[1;31mAttributeError\u001b[0m: module 'matplotlib.pyplot' has no attribute 'gce'"
     ]
    },
    {
     "data": {
      "image/png": "[encoded data removed]",
      "text/plain": [
       "<Figure size 800x500 with 1 Axes>"
      ]
     },
     "metadata": {},
     "output_type": "display_data"
    }
   ],
   "source": [
    "pd.DataFrame(model_history.history).plot(figsize=(8,5))\n",
    "plt.grid(True)\n",
    "plt.gce().set_ylim(0,1)\n",
    "plt.show()"
   ]
  },
  {
   "cell_type": "code",
   "execution_count": 70,
   "id": "ccc896ed",
   "metadata": {},
   "outputs": [
    {
     "name": "stdout",
     "output_type": "stream",
     "text": [
      "313/313 [==============================] - 2s 6ms/step - loss: 59.6689 - accuracy: 0.8606\n"
     ]
    },
    {
     "data": {
      "text/plain": [
       "[59.6689453125, 0.8605999946594238]"
      ]
     },
     "execution_count": 70,
     "metadata": {},
     "output_type": "execute_result"
    }
   ],
   "source": [
    "classifier.evaluate(X_test,y_test)"
   ]
  },
  {
   "cell_type": "code",
   "execution_count": 82,
   "id": "eb80f084",
   "metadata": {
    "scrolled": true
   },
   "outputs": [
    {
     "name": "stdout",
     "output_type": "stream",
     "text": [
      "1/1 [==============================] - 0s 36ms/step\n"
     ]
    },
    {
     "data": {
      "text/plain": [
       "array([[0., 0., 0., 0., 0., 0., 0., 0., 0., 1.],\n",
       "       [0., 0., 1., 0., 0., 0., 0., 0., 0., 0.],\n",
       "       [0., 1., 0., 0., 0., 0., 0., 0., 0., 0.]], dtype=float32)"
      ]
     },
     "execution_count": 82,
     "metadata": {},
     "output_type": "execute_result"
    }
   ],
   "source": [
    "#lest predict the output\n",
    "X_new=X_test[0:3]\n",
    "y_prob=classifier.predict(X_new)\n",
    "y_prob.round(2)"
   ]
  },
  {
   "cell_type": "code",
   "execution_count": null,
   "id": "702024e5",
   "metadata": {},
   "outputs": [],
   "source": []
  }
 ],
 "metadata": {
  "kernelspec": {
   "display_name": "Python 3 (ipykernel)",
   "language": "python",
   "name": "python3"
  },
  "language_info": {
   "codemirror_mode": {
    "name": "ipython",
    "version": 3
   },
   "file_extension": ".py",
   "mimetype": "text/x-python",
   "name": "python",
   "nbconvert_exporter": "python",
   "pygments_lexer": "ipython3",
   "version": "3.9.13"
  }
 },
 "nbformat": 4,
 "nbformat_minor": 5
}
